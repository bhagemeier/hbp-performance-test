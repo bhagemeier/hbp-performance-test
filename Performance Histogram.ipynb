{
 "metadata": {
  "name": "",
  "signature": "sha256:c326b3fe4c0f20d130fb2b24016dd63e702356351d8f25d75466d0c34fffdc0f"
 },
 "nbformat": 3,
 "nbformat_minor": 0,
 "worksheets": [
  {
   "cells": [
    {
     "cell_type": "heading",
     "level": 1,
     "metadata": {},
     "source": [
      "HBP SP5 Image Service Performance"
     ]
    },
    {
     "cell_type": "markdown",
     "metadata": {},
     "source": [
      "This notebook tests and visualizes performance of various deployments of the HBP SP5 image service."
     ]
    },
    {
     "cell_type": "heading",
     "level": 2,
     "metadata": {},
     "source": [
      "Python Definitions"
     ]
    },
    {
     "cell_type": "markdown",
     "metadata": {},
     "source": [
      "\n",
      "Start by runninng the Python code below to define a number of functions that will run the tests and evaluate the results.\n",
      "\n",
      "**Note**: The log level of the `httpRequest.go` script needs to be set to debug in order for this to work. Only the debug level writes out individual response times."
     ]
    },
    {
     "cell_type": "code",
     "collapsed": false,
     "input": [
      "import numpy\n",
      "import time\n",
      "import matplotlib.pyplot as plt\n",
      "import subprocess\n",
      "from math import ceil\n",
      "from scipy import stats\n",
      "\n",
      "def toMs(s):\n",
      "    \"\"\"\n",
      "    The test script returns timings in the format\n",
      "    nnn,nn[m]s\n",
      "    We need to decode the input line, replace commas with dots, and\n",
      "    normalize to ms.\n",
      "    \"\"\"\n",
      "    s2 = s.decode(\"UTF-8\").replace(\",\", \".\").strip()\n",
      "    if s2[-2:] == \"\u00b5s\":\n",
      "        return float(s2[:-2]) / 1000\n",
      "    if s2[-2:] == \"ms\":\n",
      "        return float(s2[:-2])\n",
      "    elif s2[-1:] == \"s\":\n",
      "        return 1000 * float(s2[:-1])\n",
      "    else:\n",
      "        return float(s2)\n",
      "    \n",
      "def nonZeroLine(l):\n",
      "    for line in l:\n",
      "        if line != \"0\":\n",
      "            yield line\n",
      "\n",
      "def runTest(site):\n",
      "    cmd = \"go run httpRequest.go MetaData.go %s 2>&1 | awk '/Result for bunch/ { print $9 }' | sed -e 's/\\\"//'\" % site\n",
      "\n",
      "    sp = subprocess.Popen(cmd, shell=True, stdout=subprocess.PIPE).stdout\n",
      "\n",
      "    data = numpy.loadtxt(sp, converters={ 0: toMs })\n",
      "    return data\n",
      "\n",
      "def plotData(data):    \n",
      "    %matplotlib inline\n",
      "    plt.figure(figsize=(15,5))\n",
      "    max = 0\n",
      "    for s in data:\n",
      "        if data[s].max() > max:\n",
      "            max = data[s].max()\n",
      "    max = min(max, 500)\n",
      "    cmap = plt.get_cmap('jet_r')\n",
      "    i = 0\n",
      "    N = len(data)\n",
      "    for s in data:\n",
      "        color = cmap(i/N)\n",
      "        i = i+1\n",
      "        density = stats.kde.gaussian_kde(data[s])\n",
      "        #density.set_bandwidth(bw_method=density.factor / 3.)\n",
      "        #density.set_bandwidth(bw_method='silverman')\n",
      "\n",
      "        x = numpy.arange(0.,float(max))\n",
      "        plt.plot(x, density(x), label=s, color=color)\n",
      "        plt.axvline(data[s].mean(), color=color, ls='dashed')\n",
      "    #plt.xscale('log')\n",
      "    plt.xlabel('t (ms)')\n",
      "    plt.legend()        \n",
      "    plt.grid(axis='y')\n",
      "    plt.show()"
     ],
     "language": "python",
     "metadata": {},
     "outputs": []
    },
    {
     "cell_type": "heading",
     "level": 2,
     "metadata": {},
     "source": [
      "Run tests"
     ]
    },
    {
     "cell_type": "markdown",
     "metadata": {},
     "source": [
      "The following cell runs the actual tests on all configured sites. Resulting data are stored in the \n",
      "`data` dictionary."
     ]
    },
    {
     "cell_type": "code",
     "collapsed": false,
     "input": [
      "sites = [\n",
      "         \"http://hbp-image.desy.de:8888\",\n",
      "          \"http://131.169.4.31:8888\",\n",
      "          \"http://149.156.9.143:8888\",\n",
      "          \"https://fsd-cloud47.zam.kfa-juelich.de\",\n",
      "           \"http://fsd-cloud47.zam.kfa-juelich.de\"\n",
      "#        \"http://localhost:8000\"\n",
      "]\n",
      "\n",
      "data = dict()\n",
      "for site in sites:\n",
      "    try:\n",
      "        data[site] = runTest(site)\n",
      "        print(\"Image service at %s - SUCCESS\" % site)\n",
      "    except:\n",
      "        print(\"Image service at %s - FAIL\" % site)"
     ],
     "language": "python",
     "metadata": {},
     "outputs": []
    },
    {
     "cell_type": "heading",
     "level": 2,
     "metadata": {},
     "source": [
      "Plot Results"
     ]
    },
    {
     "cell_type": "code",
     "collapsed": true,
     "input": [
      "#del data['http://149.156.9.143:8888']\n",
      "#for site in sites:\n",
      "#    plotData(data[site])\n",
      "plotData(data)"
     ],
     "language": "python",
     "metadata": {},
     "outputs": []
    }
   ],
   "metadata": {}
  }
 ]
}